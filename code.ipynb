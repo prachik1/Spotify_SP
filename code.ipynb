{
  "nbformat": 4,
  "nbformat_minor": 0,
  "metadata": {
    "colab": {
      "name": "Spotify_SP.ipynb",
      "provenance": [],
      "collapsed_sections": []
    },
    "kernelspec": {
      "name": "python3",
      "display_name": "Python 3"
    }
  },
  "cells": [
    {
      "cell_type": "code",
      "metadata": {
        "id": "K8K5EOV6et7l",
        "colab_type": "code",
        "colab": {}
      },
      "source": [
        "!pip install spotipy --upgrade\n",
        "!pip install lyricsgenius\n",
        "!pip install beautifulsoup4\n",
        "!pip install google"
      ],
      "execution_count": 0,
      "outputs": []
    },
    {
      "cell_type": "code",
      "metadata": {
        "id": "ueH-31LYiUUu",
        "colab_type": "code",
        "outputId": "365f2733-e108-4df8-8e88-abc4ce1ce1f0",
        "colab": {
          "base_uri": "https://localhost:8080/",
          "height": 202
        }
      },
      "source": [
        "!pip install google-api-python-client"
      ],
      "execution_count": 0,
      "outputs": [
        {
          "output_type": "stream",
          "text": [
            "Requirement already satisfied: google-api-python-client in /usr/local/lib/python3.6/dist-packages (1.7.12)\n",
            "Requirement already satisfied: httplib2<1dev,>=0.17.0 in /usr/local/lib/python3.6/dist-packages (from google-api-python-client) (0.17.0)\n",
            "Requirement already satisfied: google-auth>=1.4.1 in /usr/local/lib/python3.6/dist-packages (from google-api-python-client) (1.7.2)\n",
            "Requirement already satisfied: google-auth-httplib2>=0.0.3 in /usr/local/lib/python3.6/dist-packages (from google-api-python-client) (0.0.3)\n",
            "Requirement already satisfied: six<2dev,>=1.6.1 in /usr/local/lib/python3.6/dist-packages (from google-api-python-client) (1.12.0)\n",
            "Requirement already satisfied: uritemplate<4dev,>=3.0.0 in /usr/local/lib/python3.6/dist-packages (from google-api-python-client) (3.0.1)\n",
            "Requirement already satisfied: setuptools>=40.3.0 in /usr/local/lib/python3.6/dist-packages (from google-auth>=1.4.1->google-api-python-client) (46.0.0)\n",
            "Requirement already satisfied: rsa<4.1,>=3.1.4 in /usr/local/lib/python3.6/dist-packages (from google-auth>=1.4.1->google-api-python-client) (4.0)\n",
            "Requirement already satisfied: cachetools<3.2,>=2.0.0 in /usr/local/lib/python3.6/dist-packages (from google-auth>=1.4.1->google-api-python-client) (3.1.1)\n",
            "Requirement already satisfied: pyasn1-modules>=0.2.1 in /usr/local/lib/python3.6/dist-packages (from google-auth>=1.4.1->google-api-python-client) (0.2.8)\n",
            "Requirement already satisfied: pyasn1>=0.1.3 in /usr/local/lib/python3.6/dist-packages (from rsa<4.1,>=3.1.4->google-auth>=1.4.1->google-api-python-client) (0.4.8)\n"
          ],
          "name": "stdout"
        }
      ]
    },
    {
      "cell_type": "code",
      "metadata": {
        "id": "00PT2Zq0ggXk",
        "colab_type": "code",
        "colab": {}
      },
      "source": [
        "import sys\n",
        "import time\n",
        "import spotipy\n",
        "import spotipy.util as util\n",
        "import lyricsgenius\n",
        "from IPython.display import clear_output\n",
        "from googlesearch import search\n",
        "from googleapiclient.discovery import build\n",
        "genius = lyricsgenius.Genius(\"\")"
      ],
      "execution_count": 0,
      "outputs": []
    },
    {
      "cell_type": "code",
      "metadata": {
        "id": "vTHNqISko-Xh",
        "colab_type": "code",
        "colab": {}
      },
      "source": [
        "api_key = \"\"\n",
        "cse_id = \"\"\n",
        "def google_query(query, api_key, cse_id, **kwargs):\n",
        "    query_service = build(\"customsearch\", \n",
        "                          \"v1\", \n",
        "                          developerKey=api_key\n",
        "                          )  \n",
        "    query_results = query_service.cse().list(q=query,    # Query\n",
        "                                             cx=cse_id,  # CSE ID\n",
        "                                             **kwargs    \n",
        "                                             ).execute()\n",
        "    return query_results['items']"
      ],
      "execution_count": 0,
      "outputs": []
    },
    {
      "cell_type": "code",
      "metadata": {
        "id": "VMbxg8EifLx5",
        "colab_type": "code",
        "colab": {}
      },
      "source": [
        "scope = 'user-read-currently-playing'\n",
        "username = 'prachi'"
      ],
      "execution_count": 0,
      "outputs": []
    },
    {
      "cell_type": "code",
      "metadata": {
        "id": "DHNBG__ThTs8",
        "colab_type": "code",
        "colab": {}
      },
      "source": [
        "token = util.prompt_for_user_token(username,\n",
        "                           scope,\n",
        "                           client_id='',\n",
        "                           client_secret='',\n",
        "                           redirect_uri='https://example.com/callback')"
      ],
      "execution_count": 0,
      "outputs": []
    },
    {
      "cell_type": "code",
      "metadata": {
        "id": "v2LvdgJJm_b1",
        "colab_type": "code",
        "outputId": "d8c5c726-5d9a-4e2d-8d4f-6656c0a6ad46",
        "colab": {
          "base_uri": "https://localhost:8080/",
          "height": 1000
        }
      },
      "source": [
        "if token:\n",
        "    sp = spotipy.Spotify(auth=token)\n",
        "\n",
        "    last_song = None\n",
        "\n",
        "    while True:\n",
        "      time.sleep(5)\n",
        "      results = sp.current_user_playing_track()\n",
        "      if results is None or 'item' not in results or len(results['item']) == 0:\n",
        "        continue\n",
        "      song_name = results['item']['name']\n",
        "      if last_song == song_name:\n",
        "        continue\n",
        "\n",
        "      clear_output(wait=True)\n",
        "      \n",
        "      singers = list()\n",
        "      for artist in results['item']['artists']:\n",
        "        singers.append(artist['name'])\n",
        "      singer_name = \",\".join(singers)\n",
        "      print(singer_name)\n",
        "      song = genius.search_song(song_name,singer_name)\n",
        "      if song:\n",
        "        print(song.lyrics)\n",
        "      else:\n",
        "        query = song_name + ' by ' + singer_name + ' + lyrics'\n",
        "        # query = query.encode('UTF-8')\n",
        "        # query = query[:30]\n",
        "        # for links in search(query, tld=\".in\", num=10, stop=1, pause=2): \n",
        "        #     print(links)\n",
        "        my_results_list = []\n",
        "        my_results = google_query(query,\n",
        "                                  api_key, \n",
        "                                  cse_id, \n",
        "                                  num = 10\n",
        "                                  )\n",
        "        for result in my_results:\n",
        "            my_results_list.append(result['link'])\n",
        "            print(result['link'])\n",
        "\n",
        "      last_song = song_name\n",
        "else:\n",
        "    print(\"Can't get token for\", username)"
      ],
      "execution_count": 0,
      "outputs": [
        {
          "output_type": "stream",
          "text": [
            "Badshah,Neha Kakkar,Varun Dhawan\n",
            "Searching for \"Garmi (From \"Street Dancer 3D\") (feat. Varun Dhawan)\" by Badshah,Neha Kakkar,Varun Dhawan...\n",
            "Done.\n",
            "[Intro]\n",
            "अरे, यार, कोई A.C. चला दो, यार\n",
            "हाँ, सही है, सही है\n",
            "\n",
            "[Verse 1: Badshah & Neha Kakkar]\n",
            "बाक़ी सारी fake लगें, देख के तुझको brake लगे\n",
            "दूर-दूर से ठीक है रानी, पास आऊँ तो सेक लगे\n",
            "पारा इतना high हुआ के thermometer टूट गया\n",
            "सैयाँ जी का टपक-टपक के हाय पसीना छूट गया\n",
            "कैसी गुंडागर्दी है? बंदी तू बेदर्दी है\n",
            "सर्दी में भी कर दी है (कर दी है, कर दी है)\n",
            "कर दी, कर दी, कर दी, कर दी\n",
            "\n",
            "[Chorus: Badshah]\n",
            "हाय, गरमी\n",
            "हाय, गरमी\n",
            "हाय, गरमी\n",
            "हाय, गरमी\n",
            "\n",
            "[Verse 2: Badshah]\n",
            "दिसंबर में कर दे summer\n",
            "तू Lamborghini, मैं हूँ Hummer\n",
            "वैसे भी कोई जल्दी नहीं मुझको\n",
            "बचपन से ही मैं latecomer\n",
            "Million में तू baby एक, हिलती कमर जैसे snake\n",
            "तेरी सुंदरता पे लिख दूँ baby, दो foot लंबा लेख\n",
            "कर दूँ १०० बात की एक, लेगी मुझको तू माथा टेक\n",
            "गरमी कहते हैं किसको तू मुझको गले लगा के देख (Ow)\n",
            "हाय, गरमी\n",
            "ऐसे ना तू देख परे, दिल क्यूँ मेरा break करे?\n",
            "लाल dress में रानी, बिल्कुल Red Velvet का cake लगे\n",
            "तेरे जैसे जाने कितनों के दिल चकनाचूर हुए\n",
            "मेरे पीछे मर के आशिक़ कितने ही मशहूर हुए, ayy\n",
            "कैसी गुंडागर्दी है?\n",
            "सर्दी में भी कर दी है (कर दी है, कर दी है)\n",
            "\n",
            "[Chorus: Badshah & Neha Kakkar]\n",
            "हाय, गरमी\n",
            "हाय, गरमी\n",
            "हाय, गरमी\n",
            "गरमी-गरमी, गरमी-गरमी\n",
            "गरमी-गरमी, हाय (हाय, गरमी)\n",
            "गरमी-गरमी, गरमी-गरमी\n",
            "गरमी-गरमी, हाय (It's your boy, Badshah)\n",
            "\n",
            "[Verse 3: Badshah & Neha Kakkar]\n",
            "नाचे जो तू sandal में, कर ना पाऊँ handle मैं\n",
            "साँस सा देखो मेरा रुकने लगा\n",
            "देखा जो हसीना के सीने पे पसीना\n",
            "तो पसीना तेरा भी देखो छूटने लगा\n",
            "नाचे जो तू sandal में, कर ना पाऊँ handle मैं\n",
            "साँस सा देखो मेरा रुकने लगा\n",
            "देखा जो हसीना के सीने पे पसीना\n",
            "तो पसीना तेरा भी देखो छूटने लगा, हाँ\n"
          ],
          "name": "stdout"
        },
        {
          "output_type": "error",
          "ename": "KeyboardInterrupt",
          "evalue": "ignored",
          "traceback": [
            "\u001b[0;31m---------------------------------------------------------------------------\u001b[0m",
            "\u001b[0;31mKeyboardInterrupt\u001b[0m                         Traceback (most recent call last)",
            "\u001b[0;32m<ipython-input-21-c1bf3208cf0a>\u001b[0m in \u001b[0;36m<module>\u001b[0;34m()\u001b[0m\n\u001b[1;32m      5\u001b[0m \u001b[0;34m\u001b[0m\u001b[0m\n\u001b[1;32m      6\u001b[0m     \u001b[0;32mwhile\u001b[0m \u001b[0;32mTrue\u001b[0m\u001b[0;34m:\u001b[0m\u001b[0;34m\u001b[0m\u001b[0;34m\u001b[0m\u001b[0m\n\u001b[0;32m----> 7\u001b[0;31m       \u001b[0mtime\u001b[0m\u001b[0;34m.\u001b[0m\u001b[0msleep\u001b[0m\u001b[0;34m(\u001b[0m\u001b[0;36m5\u001b[0m\u001b[0;34m)\u001b[0m\u001b[0;34m\u001b[0m\u001b[0;34m\u001b[0m\u001b[0m\n\u001b[0m\u001b[1;32m      8\u001b[0m       \u001b[0mresults\u001b[0m \u001b[0;34m=\u001b[0m \u001b[0msp\u001b[0m\u001b[0;34m.\u001b[0m\u001b[0mcurrent_user_playing_track\u001b[0m\u001b[0;34m(\u001b[0m\u001b[0;34m)\u001b[0m\u001b[0;34m\u001b[0m\u001b[0;34m\u001b[0m\u001b[0m\n\u001b[1;32m      9\u001b[0m       \u001b[0;32mif\u001b[0m \u001b[0mresults\u001b[0m \u001b[0;32mis\u001b[0m \u001b[0;32mNone\u001b[0m \u001b[0;32mor\u001b[0m \u001b[0;34m'item'\u001b[0m \u001b[0;32mnot\u001b[0m \u001b[0;32min\u001b[0m \u001b[0mresults\u001b[0m \u001b[0;32mor\u001b[0m \u001b[0mlen\u001b[0m\u001b[0;34m(\u001b[0m\u001b[0mresults\u001b[0m\u001b[0;34m[\u001b[0m\u001b[0;34m'item'\u001b[0m\u001b[0;34m]\u001b[0m\u001b[0;34m)\u001b[0m \u001b[0;34m==\u001b[0m \u001b[0;36m0\u001b[0m\u001b[0;34m:\u001b[0m\u001b[0;34m\u001b[0m\u001b[0;34m\u001b[0m\u001b[0m\n",
            "\u001b[0;31mKeyboardInterrupt\u001b[0m: "
          ]
        }
      ]
    }
  ]
}